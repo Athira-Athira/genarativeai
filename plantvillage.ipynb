{
  "nbformat": 4,
  "nbformat_minor": 0,
  "metadata": {
    "colab": {
      "provenance": []
    },
    "kernelspec": {
      "name": "python3",
      "display_name": "Python 3"
    },
    "language_info": {
      "name": "python"
    }
  },
  "cells": [
    {
      "cell_type": "code",
      "execution_count": null,
      "metadata": {
        "id": "9eGEOobo07Lt"
      },
      "outputs": [],
      "source": []
    },
    {
      "cell_type": "code",
      "source": [
        "import os\n",
        "import numpy as np\n",
        "import cv2\n",
        "from tensorflow.keras.models import Sequential\n",
        "from tensorflow.keras.layers import Conv2D, MaxPooling2D, Flatten, Dense\n",
        "from sklearn.model_selection import train_test_split\n",
        "from sklearn.preprocessing import LabelEncoder\n",
        "\n",
        "# Load dataset\n",
        "dataset_path = \"C:/Users/Dell/PlantVillage\"\n",
        "categories = os.listdir(\"dataset_path\")\n",
        "labels = []\n",
        "data = []\n",
        "\n",
        "for category in categories:\n",
        "    folder_path = os.path.join(dataset_path, category)\n",
        "    for img in os.listdir(folder_path):\n",
        "        img_path = os.path.join(folder_path, img)\n",
        "        image = cv2.imread(img_path)\n",
        "        image = cv2.resize(image, (100, 100))  # Resize images to a fixed size\n",
        "        data.append(image)\n",
        "        labels.append(category)\n",
        "\n",
        "# Preprocess the data\n",
        "data = np.array(data) / 255.0  # Normalize pixel values\n",
        "le = LabelEncoder()\n",
        "labels = le.fit_transform(labels)\n",
        "labels = np.array(labels)\n",
        "\n",
        "# Split data into training and testing sets\n",
        "(trainX, testX, trainY, testY) = train_test_split(data, labels, test_size=0.2, random_state=42)\n",
        "\n",
        "# Define the model\n",
        "model = Sequential([\n",
        "    Conv2D(32, (3, 3), activation='relu', input_shape=(100, 100, 3)),\n",
        "    MaxPooling2D((2, 2)),\n",
        "    Conv2D(64, (3, 3), activation='relu'),\n",
        "    MaxPooling2D((2, 2)),\n",
        "    Conv2D(64, (3, 3), activation='relu'),\n",
        "    Flatten(),\n",
        "    Dense(64, activation='relu'),\n",
        "    Dense(len(categories), activation='softmax')\n",
        "])\n",
        "\n",
        "# Compile the model\n",
        "model.compile(optimizer='adam',\n",
        "              loss='sparse_categorical_crossentropy',\n",
        "              metrics=['accuracy'])\n",
        "\n",
        "# Train the model\n",
        "model.fit(trainX, trainY, epochs=10, batch_size=32, validation_data=(testX, testY))\n",
        "\n",
        "# Evaluate the model\n",
        "loss, accuracy = model.evaluate(testX, testY)\n",
        "print(f\"Test Accuracy: {accuracy}\")\n",
        "\n",
        "# Save the model\n",
        "model.save(\"plant_disease_detection_model.h5\")\n"
      ],
      "metadata": {
        "id": "tSM5dSK6xbBF"
      },
      "execution_count": null,
      "outputs": []
    }
  ]
}